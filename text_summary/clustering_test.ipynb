{
 "cells": [
  {
   "cell_type": "code",
   "execution_count": 1,
   "metadata": {
    "colab": {
     "base_uri": "https://localhost:8080/",
     "height": 204
    },
    "colab_type": "code",
    "executionInfo": {
     "elapsed": 6297,
     "status": "ok",
     "timestamp": 1557368158511,
     "user": {
      "displayName": "Shyla Gangwar",
      "photoUrl": "",
      "userId": "17693230568302739601"
     },
     "user_tz": 240
    },
    "id": "vud6621Z0oiX",
    "outputId": "b2c36ffd-e658-434d-ac45-381ac3025b35"
   },
   "outputs": [
    {
     "name": "stdout",
     "output_type": "stream",
     "text": [
      "Requirement already satisfied: PyDrive in /usr/local/lib/python3.6/dist-packages (1.3.1)\n",
      "Requirement already satisfied: oauth2client>=4.0.0 in /usr/local/lib/python3.6/dist-packages (from PyDrive) (4.1.3)\n",
      "Requirement already satisfied: google-api-python-client>=1.2 in /usr/local/lib/python3.6/dist-packages (from PyDrive) (1.6.7)\n",
      "Requirement already satisfied: PyYAML>=3.0 in /usr/local/lib/python3.6/dist-packages (from PyDrive) (3.13)\n",
      "Requirement already satisfied: pyasn1-modules>=0.0.5 in /usr/local/lib/python3.6/dist-packages (from oauth2client>=4.0.0->PyDrive) (0.2.5)\n",
      "Requirement already satisfied: rsa>=3.1.4 in /usr/local/lib/python3.6/dist-packages (from oauth2client>=4.0.0->PyDrive) (3.4.2)\n",
      "Requirement already satisfied: six>=1.6.1 in /usr/local/lib/python3.6/dist-packages (from oauth2client>=4.0.0->PyDrive) (1.12.0)\n",
      "Requirement already satisfied: httplib2>=0.9.1 in /usr/local/lib/python3.6/dist-packages (from oauth2client>=4.0.0->PyDrive) (0.11.3)\n",
      "Requirement already satisfied: pyasn1>=0.1.7 in /usr/local/lib/python3.6/dist-packages (from oauth2client>=4.0.0->PyDrive) (0.4.5)\n",
      "Requirement already satisfied: uritemplate<4dev,>=3.0.0 in /usr/local/lib/python3.6/dist-packages (from google-api-python-client>=1.2->PyDrive) (3.0.0)\n",
      "Requirement already satisfied: rouge in /usr/local/lib/python3.6/dist-packages (0.3.2)\n"
     ]
    }
   ],
   "source": [
    "!pip install PyDrive\n",
    "!pip install rouge"
   ]
  },
  {
   "cell_type": "code",
   "execution_count": 0,
   "metadata": {
    "colab": {},
    "colab_type": "code",
    "id": "umtkYzVauQRY"
   },
   "outputs": [],
   "source": [
    "from __future__ import unicode_literals, print_function, division\n",
    "from io import open\n",
    "import unicodedata\n",
    "import string\n",
    "import re\n",
    "import random\n",
    "import torch\n",
    "import torch.nn as nn\n",
    "from torch import optim\n",
    "import torch.nn.functional as F\n",
    "import json, gzip\n",
    "import torch\n",
    "import torch.nn as nn\n",
    "import numpy as np\n",
    "import time\n",
    "import os\n",
    "from pydrive.auth import GoogleAuth\n",
    "from pydrive.drive import GoogleDrive\n",
    "from google.colab import auth\n",
    "from google.colab import drive\n",
    "from oauth2client.client import GoogleCredentials\n",
    "import pickle\n",
    "from torch.nn.utils.rnn import pack_padded_sequence, pad_packed_sequence\n",
    "import re\n",
    "import unicodedata"
   ]
  },
  {
   "cell_type": "code",
   "execution_count": 4,
   "metadata": {
    "colab": {
     "base_uri": "https://localhost:8080/",
     "height": 34
    },
    "colab_type": "code",
    "executionInfo": {
     "elapsed": 351,
     "status": "ok",
     "timestamp": 1557368179208,
     "user": {
      "displayName": "Shyla Gangwar",
      "photoUrl": "",
      "userId": "17693230568302739601"
     },
     "user_tz": 240
    },
    "id": "DAceJTFO3yua",
    "outputId": "94787fcc-b3d3-4d56-e609-0b451a44c337"
   },
   "outputs": [
    {
     "name": "stdout",
     "output_type": "stream",
     "text": [
      "cuda:0\n"
     ]
    }
   ],
   "source": [
    "device = torch.device(\"cuda:0\" if torch.cuda.is_available() else \"cpu\")\n",
    "print(device)"
   ]
  },
  {
   "cell_type": "code",
   "execution_count": 0,
   "metadata": {
    "colab": {},
    "colab_type": "code",
    "id": "4iGfx_Xv0xTj"
   },
   "outputs": [],
   "source": [
    "auth.authenticate_user()\n",
    "gauth = GoogleAuth()\n",
    "gauth.credentials = GoogleCredentials.get_application_default()\n",
    "drive = GoogleDrive(gauth)"
   ]
  },
  {
   "cell_type": "markdown",
   "metadata": {
    "colab_type": "text",
    "id": "xq-2777ul4is"
   },
   "source": [
    "##Mixed data"
   ]
  },
  {
   "cell_type": "code",
   "execution_count": 0,
   "metadata": {
    "colab": {},
    "colab_type": "code",
    "id": "aFUmkHfU05pX"
   },
   "outputs": [],
   "source": [
    "# # Data for training set = 10k dev set = 1k\n",
    "# download = drive.CreateFile({'id': '1yJB36Jj1jw3U0JwE3IwhBYDY3VI1oCGd'})\n",
    "# download.GetContentFile('train.p')\n",
    "# download = drive.CreateFile({'id': '1T6YxqByvjNlCSZrU7FVmdCYlxM0RHlgw'})\n",
    "# download.GetContentFile('dev.p')\n",
    "# download = drive.CreateFile({'id': '1vPOGkgumTOVQ4N84GBo8AAPeAgwfyMep'})\n",
    "# download.GetContentFile('index2word.p')\n",
    "# download = drive.CreateFile({'id': '1JRYv-RQqhX6-fdYVUmyZmP9tBOtZjp_w'})\n",
    "# download.GetContentFile('word2index.p')"
   ]
  },
  {
   "cell_type": "code",
   "execution_count": 0,
   "metadata": {
    "colab": {},
    "colab_type": "code",
    "id": "LjdzHSdf0GJf"
   },
   "outputs": [],
   "source": [
    "#Data for training set = 50k dev set = 5k\n",
    "# download = drive.CreateFile({'id': '1xq4JlZoWZ8_eO5F6VNBQvk2Mvub1Etpb'})\n",
    "# download.GetContentFile('trainL.p')\n",
    "# download = drive.CreateFile({'id': '1G3YAtOtrfv3PswNSHyGm0SIZy60n95zU'})\n",
    "# download.GetContentFile('devL.p')\n",
    "# download = drive.CreateFile({'id': '1bZXADxMyEn-yWtneA1sxDouGpuce1LRh'})\n",
    "# download.GetContentFile('index2wordL.p')\n",
    "# download = drive.CreateFile({'id': '1IMnW7Oyq4q9Ho5z87MbmVwlODjzEvY9h'})\n",
    "# download.GetContentFile('word2indexL.p')\n"
   ]
  },
  {
   "cell_type": "code",
   "execution_count": 0,
   "metadata": {
    "colab": {},
    "colab_type": "code",
    "id": "DepR_Xvwsio2"
   },
   "outputs": [],
   "source": [
    "# #Data with Extractive/Abstractive lable\n",
    "download = drive.CreateFile({'id': '1LOzhGMuW8F4ChPUsycBjEOwpLDQPeD0I'})\n",
    "download.GetContentFile('trainNew.p')\n",
    "download = drive.CreateFile({'id': '1yoaCyqZgZ5QszX0g4ABnNV-9p-D6DUlZ'})\n",
    "download.GetContentFile('devNew.p')\n",
    "download = drive.CreateFile({'id': '1XSaEgXAwPWTojc6ZjzIy8vR38jjiCUSW'})\n",
    "download.GetContentFile('testNew.p')\n",
    "download = drive.CreateFile({'id': '1U45R7EOqcJCUQAyHMMRmhFgWoxfzxyL8'})\n",
    "download.GetContentFile('index2wordNew.p')\n",
    "download = drive.CreateFile({'id': '1DGnwq99nJAq9i9TQ45HPjaO3aYWqDDEL'})\n",
    "download.GetContentFile('word2indexNew.p')"
   ]
  },
  {
   "cell_type": "code",
   "execution_count": 0,
   "metadata": {
    "colab": {},
    "colab_type": "code",
    "id": "pm1-CvpHZrye"
   },
   "outputs": [],
   "source": [
    "# train_dict = pickle.load( open( \"train.p\", \"rb\" ) )\n",
    "# dev_dict = pickle.load( open( \"dev.p\", \"rb\" ) )\n",
    "# index2word = pickle.load( open( \"index2word.p\", \"rb\" ) )\n",
    "# word2index = pickle.load( open( \"word2index.p\", \"rb\" ) )"
   ]
  },
  {
   "cell_type": "code",
   "execution_count": 0,
   "metadata": {
    "colab": {},
    "colab_type": "code",
    "id": "OfKZTXM3syU9"
   },
   "outputs": [],
   "source": [
    "train_dict = pickle.load( open( \"trainNew.p\", \"rb\" ) )\n",
    "dev_dict = pickle.load( open( \"devNew.p\", \"rb\" ) )\n",
    "test_dict = pickle.load( open( \"testNew.p\", \"rb\" ) )\n",
    "index2word = pickle.load( open( \"index2wordNew.p\", \"rb\" ) )\n",
    "word2index = pickle.load( open( \"word2indexNew.p\", \"rb\" ) )"
   ]
  },
  {
   "cell_type": "code",
   "execution_count": 8,
   "metadata": {
    "colab": {
     "base_uri": "https://localhost:8080/",
     "height": 68
    },
    "colab_type": "code",
    "executionInfo": {
     "elapsed": 417,
     "status": "ok",
     "timestamp": 1557368439859,
     "user": {
      "displayName": "Shyla Gangwar",
      "photoUrl": "",
      "userId": "17693230568302739601"
     },
     "user_tz": 240
    },
    "id": "jtL4YC4AtRCJ",
    "outputId": "fca0a187-cba5-47c8-86f0-3d4ffe7d82ed"
   },
   "outputs": [
    {
     "name": "stdout",
     "output_type": "stream",
     "text": [
      "3554\n",
      "374\n",
      "349\n"
     ]
    }
   ],
   "source": [
    "# data_code = \"extractive\"\n",
    "# data_code = \"abstractive\"\n",
    "data_code = \"mixed\"\n",
    "filtered_train_dict = []\n",
    "filtered_dev_dict = []\n",
    "filtered_test_dict = []\n",
    "\n",
    "for ind in range(len(train_dict)):\n",
    "    data = train_dict[ind]\n",
    "    if data['density_bin'] == data_code:\n",
    "        filtered_train_dict.append(data)\n",
    "for ind in range(len(dev_dict)):\n",
    "    data = dev_dict[ind]\n",
    "    if data['density_bin'] == data_code:\n",
    "        filtered_dev_dict.append(data)\n",
    "for ind in range(len(test_dict)):\n",
    "    data = test_dict[ind]\n",
    "    if data['density_bin'] == data_code:\n",
    "        filtered_test_dict.append(data)\n",
    "\n",
    "print(len(filtered_train_dict))\n",
    "print(len(filtered_dev_dict))\n",
    "print(len(filtered_test_dict))"
   ]
  },
  {
   "cell_type": "code",
   "execution_count": 0,
   "metadata": {
    "colab": {},
    "colab_type": "code",
    "id": "S_pacfjoFRSH"
   },
   "outputs": [],
   "source": [
    "#Extractive summary for 100 data points\n",
    "# download = drive.CreateFile({'id': '1N6K91ySpywAB9pSKVCoJZKBn84S-2UFx'})\n",
    "# download.GetContentFile('extract_train100.p')\n",
    "# train_dict = pickle.load( open( \"extract_train100.p\", \"rb\" ) )"
   ]
  },
  {
   "cell_type": "code",
   "execution_count": 0,
   "metadata": {
    "colab": {},
    "colab_type": "code",
    "id": "g5po_qE7Zu2_"
   },
   "outputs": [],
   "source": [
    "train_dict = filtered_train_dict[:]\n",
    "dev_dict = filtered_dev_dict[:]\n",
    "test_dict = filtered_test_dict[:]"
   ]
  },
  {
   "cell_type": "code",
   "execution_count": 10,
   "metadata": {
    "colab": {
     "base_uri": "https://localhost:8080/",
     "height": 51
    },
    "colab_type": "code",
    "executionInfo": {
     "elapsed": 505,
     "status": "ok",
     "timestamp": 1557368454056,
     "user": {
      "displayName": "Shyla Gangwar",
      "photoUrl": "",
      "userId": "17693230568302739601"
     },
     "user_tz": 240
    },
    "id": "NdtVZtE9J6PK",
    "outputId": "9a06718b-90a5-4105-a328-6e1cecb3639c"
   },
   "outputs": [
    {
     "name": "stdout",
     "output_type": "stream",
     "text": [
      "3554\n",
      "374\n"
     ]
    }
   ],
   "source": [
    "train_dict_text = []\n",
    "for i, data in enumerate(train_dict):\n",
    "    t = {}\n",
    "    text_ind = data['text'][:]\n",
    "    summ_ind = data['summary'][:]\n",
    "    text = ''\n",
    "    summ = ''\n",
    "    for txt in text_ind:\n",
    "        if text:\n",
    "            text += ' '\n",
    "        text += index2word[txt]\n",
    "    t['text'] = text\n",
    "    for s in summ_ind:\n",
    "        if summ:\n",
    "            summ += ' '\n",
    "        summ += index2word[s]\n",
    "#         if i==789:\n",
    "#             print(s, summ)\n",
    "    t['summary'] = summ\n",
    "    train_dict_text.append(t)\n",
    "print(len(train_dict_text))\n",
    "\n",
    "dev_dict_text = []\n",
    "for data in dev_dict:\n",
    "    t = {}\n",
    "    text_ind = data['text'][:]\n",
    "    summ_ind = data['summary'][:]\n",
    "    text = ''\n",
    "    summ = ''\n",
    "    for txt in text_ind:\n",
    "        if text:\n",
    "            text += ' '\n",
    "        text += index2word[txt]\n",
    "    t['text'] = text\n",
    "    for s in summ_ind:\n",
    "        if summ:\n",
    "            summ += ' '\n",
    "        summ += index2word[s]\n",
    "    t['summary'] = summ\n",
    "    dev_dict_text.append(t)\n",
    "print(len(dev_dict_text))"
   ]
  },
  {
   "cell_type": "code",
   "execution_count": 11,
   "metadata": {
    "colab": {
     "base_uri": "https://localhost:8080/",
     "height": 68
    },
    "colab_type": "code",
    "executionInfo": {
     "elapsed": 694,
     "status": "ok",
     "timestamp": 1557368456549,
     "user": {
      "displayName": "Shyla Gangwar",
      "photoUrl": "",
      "userId": "17693230568302739601"
     },
     "user_tz": 240
    },
    "id": "_dF-Xkstxxcf",
    "outputId": "30021714-68dd-4034-b89d-2a29304a50b6"
   },
   "outputs": [
    {
     "name": "stdout",
     "output_type": "stream",
     "text": [
      "[19835, 19, 38, 112, 75154, 6405, 108, 18, 109, 110, 242, 10, 10, 10, 42803, 50]\n",
      "advertise in the daily telegraph; product information and key facts for    advertisers .\n",
      "advertisers\n"
     ]
    }
   ],
   "source": [
    "ind = 0\n",
    "print(train_dict[ind]['summary'])\n",
    "print(train_dict_text[ind]['summary'])\n",
    "print(index2word[train_dict[ind]['summary'][-2]])"
   ]
  },
  {
   "cell_type": "code",
   "execution_count": 12,
   "metadata": {
    "colab": {
     "base_uri": "https://localhost:8080/",
     "height": 102
    },
    "colab_type": "code",
    "executionInfo": {
     "elapsed": 2106,
     "status": "ok",
     "timestamp": 1557368460156,
     "user": {
      "displayName": "Shyla Gangwar",
      "photoUrl": "",
      "userId": "17693230568302739601"
     },
     "user_tz": 240
    },
    "id": "Gy2-gfdSRQML",
    "outputId": "ee54d9e5-e09d-4a30-8317-f61fa9942380"
   },
   "outputs": [
    {
     "name": "stderr",
     "output_type": "stream",
     "text": [
      "WARNING: Logging before flag parsing goes to stderr.\n",
      "W0508 22:21:00.165590 140182069344128 __init__.py:56] Some hub symbols are not available because TensorFlow version is less than 1.14\n"
     ]
    },
    {
     "name": "stdout",
     "output_type": "stream",
     "text": [
      "[nltk_data] Downloading package punkt to /root/nltk_data...\n",
      "[nltk_data]   Package punkt is already up-to-date!\n"
     ]
    },
    {
     "data": {
      "text/plain": [
       "True"
      ]
     },
     "execution_count": 12,
     "metadata": {
      "tags": []
     },
     "output_type": "execute_result"
    }
   ],
   "source": [
    "import nltk\n",
    "import nltk.data\n",
    "from nltk import tokenize\n",
    "import tensorflow as tf\n",
    "import tensorflow_hub as hub\n",
    "import numpy as np\n",
    "import os, sys\n",
    "import pickle\n",
    "import json, gzip\n",
    "import time\n",
    "import math\n",
    "from sklearn.cluster import KMeans\n",
    "import numpy as np\n",
    "from collections import defaultdict\n",
    "from scipy.spatial.distance import euclidean\n",
    "nltk.download('punkt')"
   ]
  },
  {
   "cell_type": "code",
   "execution_count": 0,
   "metadata": {
    "colab": {},
    "colab_type": "code",
    "id": "OpzBQZzPdR5A"
   },
   "outputs": [],
   "source": [
    "module_url = \"https://tfhub.dev/google/universal-sentence-encoder-large/3\" #@param [\"https://tfhub.dev/google/universal-sentence-encoder/2\", \"https://tfhub.dev/google/universal-sentence-encoder-large/3\"]"
   ]
  },
  {
   "cell_type": "code",
   "execution_count": 14,
   "metadata": {
    "colab": {
     "base_uri": "https://localhost:8080/",
     "height": 139
    },
    "colab_type": "code",
    "executionInfo": {
     "elapsed": 2140,
     "status": "ok",
     "timestamp": 1557368465868,
     "user": {
      "displayName": "Shyla Gangwar",
      "photoUrl": "",
      "userId": "17693230568302739601"
     },
     "user_tz": 240
    },
    "id": "PwxACW1NSqN1",
    "outputId": "5088279f-113d-43cb-cdd0-89f0e99645e6"
   },
   "outputs": [
    {
     "name": "stdout",
     "output_type": "stream",
     "text": [
      "WARNING:tensorflow:From /usr/local/lib/python3.6/dist-packages/tensorflow/python/ops/control_flow_ops.py:3632: colocate_with (from tensorflow.python.framework.ops) is deprecated and will be removed in a future version.\n",
      "Instructions for updating:\n",
      "Colocations handled automatically by placer.\n"
     ]
    },
    {
     "name": "stderr",
     "output_type": "stream",
     "text": [
      "W0508 22:21:05.634465 140182069344128 deprecation.py:323] From /usr/local/lib/python3.6/dist-packages/tensorflow/python/ops/control_flow_ops.py:3632: colocate_with (from tensorflow.python.framework.ops) is deprecated and will be removed in a future version.\n",
      "Instructions for updating:\n",
      "Colocations handled automatically by placer.\n"
     ]
    }
   ],
   "source": [
    "embed = hub.Module(module_url)\n",
    "tf.logging.set_verbosity(tf.logging.ERROR)\n",
    "tokenizer = nltk.data.load('tokenizers/punkt/english.pickle')"
   ]
  },
  {
   "cell_type": "code",
   "execution_count": 0,
   "metadata": {
    "colab": {},
    "colab_type": "code",
    "id": "rQJwjSqG8Ak_"
   },
   "outputs": [],
   "source": [
    "g = tf.Graph()\n",
    "with g.as_default():\n",
    "    text_input = tf.placeholder(dtype=tf.string, shape=[None])\n",
    "    embed = hub.Module(module_url)\n",
    "    embedded_text = embed(text_input)\n",
    "    init_op = tf.group([tf.global_variables_initializer(), tf.tables_initializer()])\n",
    "g.finalize()\n",
    "\n",
    "session = tf.Session(graph=g)\n",
    "session.run(init_op)"
   ]
  },
  {
   "cell_type": "code",
   "execution_count": 16,
   "metadata": {
    "colab": {
     "base_uri": "https://localhost:8080/",
     "height": 119
    },
    "colab_type": "code",
    "executionInfo": {
     "elapsed": 121625,
     "status": "ok",
     "timestamp": 1557368607991,
     "user": {
      "displayName": "Shyla Gangwar",
      "photoUrl": "",
      "userId": "17693230568302739601"
     },
     "user_tz": 240
    },
    "id": "EArg_aVBkLqr",
    "outputId": "e5619f54-e0bc-49f8-cfb0-d4c4ba0ee9a2"
   },
   "outputs": [
    {
     "name": "stdout",
     "output_type": "stream",
     "text": [
      "0\n",
      "1000\n",
      "2000\n",
      "3000\n",
      "0.030985593795776367\n",
      "0.03412151336669922\n"
     ]
    }
   ],
   "source": [
    "ext_train_data = []\n",
    "ext_dev_data = []\n",
    "\n",
    "for i, data in enumerate(train_dict_text):\n",
    "    if i%1000==0:\n",
    "        print(i)\n",
    "    start = time.time()\n",
    "    text = data['text'][:]\n",
    "    sentences_list = tokenize.sent_tokenize(text)\n",
    "    #print((sentences_list))\n",
    "    try:\n",
    "        sentences_embeddings = session.run(embedded_text, feed_dict={text_input: sentences_list})\n",
    "        num_sent = sentences_embeddings.shape[0]\n",
    "        k = round(math.sqrt(num_sent))\n",
    "        clustering = KMeans(n_clusters=k).fit(sentences_embeddings)\n",
    "        cluster_centers = clustering.cluster_centers_\n",
    "        center_dist = defaultdict(list)\n",
    "        for ns in range(num_sent):\n",
    "            label = clustering.labels_[ns]\n",
    "            dist = euclidean(sentences_embeddings[ns], cluster_centers[label])\n",
    "            center_dist[label].append((dist, ns))\n",
    "\n",
    "        final = []\n",
    "        for labels in range(k):\n",
    "            try:\n",
    "                center_dist[labels].sort(key = lambda x: x[0])\n",
    "                final.append(center_dist[labels][0][1])\n",
    "            except:\n",
    "                continue\n",
    "        final.sort()\n",
    "        ex = []\n",
    "        for i in final:\n",
    "            ex.append(sentences_list[i])\n",
    "        extractive = (' ').join(ex)\n",
    "        dict_ = {}\n",
    "        dict_['text'] = extractive[:]\n",
    "        dict_['summary'] = data['summary'][:]\n",
    "        ext_train_data.append(dict_)\n",
    "    except:\n",
    "        print('error')\n",
    "end = time.time()\n",
    "print(end-start)\n",
    "\n",
    "for i, data in enumerate(dev_dict_text):\n",
    "    start = time.time()\n",
    "    text = data['text'][:]\n",
    "    sentences_list = tokenize.sent_tokenize(text)\n",
    "    #print((sentences_list))\n",
    "    \n",
    "    sentences_embeddings = session.run(embedded_text, feed_dict={text_input: sentences_list})\n",
    "    num_sent = sentences_embeddings.shape[0]\n",
    "    k = round(math.sqrt(num_sent))\n",
    "    clustering = KMeans(n_clusters=k).fit(sentences_embeddings)\n",
    "    cluster_centers = clustering.cluster_centers_\n",
    "    center_dist = defaultdict(list)\n",
    "    for ns in range(num_sent):\n",
    "        label = clustering.labels_[ns]\n",
    "        dist = euclidean(sentences_embeddings[ns], cluster_centers[label])\n",
    "        center_dist[label].append((dist, ns))\n",
    "            \n",
    "    final = []\n",
    "    for labels in range(k):\n",
    "        try:\n",
    "            center_dist[labels].sort(key = lambda x: x[0])\n",
    "            final.append(center_dist[labels][0][1])\n",
    "        except:\n",
    "            continue\n",
    "    final.sort()\n",
    "    ex = []\n",
    "    for i in final:\n",
    "        ex.append(sentences_list[i])\n",
    "    extractive = (' ').join(ex)\n",
    "    dict_ = {}\n",
    "    dict_['text'] = extractive[:]\n",
    "    dict_['summary'] = data['summary'][:]\n",
    "    ext_dev_data.append(dict_)\n",
    "end = time.time()\n",
    "print(end-start)"
   ]
  },
  {
   "cell_type": "code",
   "execution_count": 0,
   "metadata": {
    "colab": {},
    "colab_type": "code",
    "id": "WqSnGLzQYY2t"
   },
   "outputs": [],
   "source": [
    "ext_train_data = sorted(ext_train_data, key = lambda i: len(i['text']), reverse = True)\n",
    "# dev_dict = sorted(dev_dict, key = lambda i: len(i['text']), reverse = True)"
   ]
  },
  {
   "cell_type": "code",
   "execution_count": 17,
   "metadata": {
    "colab": {
     "base_uri": "https://localhost:8080/",
     "height": 71
    },
    "colab_type": "code",
    "executionInfo": {
     "elapsed": 435,
     "status": "ok",
     "timestamp": 1557368622785,
     "user": {
      "displayName": "Shyla Gangwar",
      "photoUrl": "",
      "userId": "17693230568302739601"
     },
     "user_tz": 240
    },
    "id": "zNw4b7didaoI",
    "outputId": "1c292f31-ef76-4113-f573-cc8b17096acf"
   },
   "outputs": [
    {
     "name": "stdout",
     "output_type": "stream",
     "text": [
      "vincent 's hospital saturday afternoon after a female caller placed a call to 911 . following alexa ray 's hospitalization , her rep issued a statement saying , \"she is stable and her doctors are assessing her needs .\"\n",
      "the singer releases a statement about his daughter alexa ray 's hospitalization\n"
     ]
    }
   ],
   "source": [
    "ind = 1\n",
    "print(ext_train_data[ind]['text'])\n",
    "print(ext_train_data[ind]['summary'])\n",
    "# print(ext_dev_data[ind]['text'])\n",
    "# print(ext_dev_data[ind]['summary'])"
   ]
  },
  {
   "cell_type": "code",
   "execution_count": 0,
   "metadata": {
    "colab": {},
    "colab_type": "code",
    "id": "47xPxFOSxUr_"
   },
   "outputs": [],
   "source": [
    "from rouge import Rouge\n",
    "\n",
    "def calculate_rouge (hyps, refs):\n",
    "    #print(hyps, refs)\n",
    "    r = Rouge()\n",
    "    scores = r.get_scores(hyps, refs, avg=True)\n",
    "    return(scores)\n"
   ]
  },
  {
   "cell_type": "code",
   "execution_count": 0,
   "metadata": {
    "colab": {},
    "colab_type": "code",
    "id": "WYAR0NY_D135"
   },
   "outputs": [],
   "source": [
    "# clustered = 'Colab is a good platform. It is very useful.'\n",
    "# org = 'Colab is a very useful platform.'\n",
    "# # org = 'Colab is a good platform. It is very useful.'\n",
    "# scores = calculate_rouge (org, clustered)\n",
    "# print(scores)\n",
    "# scores = calculate_rouge (clustered, org)\n",
    "# print(scores)"
   ]
  },
  {
   "cell_type": "code",
   "execution_count": 19,
   "metadata": {
    "colab": {
     "base_uri": "https://localhost:8080/",
     "height": 51
    },
    "colab_type": "code",
    "executionInfo": {
     "elapsed": 395,
     "status": "ok",
     "timestamp": 1557368630985,
     "user": {
      "displayName": "Shyla Gangwar",
      "photoUrl": "",
      "userId": "17693230568302739601"
     },
     "user_tz": 240
    },
    "id": "YKIH5VzgjxTC",
    "outputId": "c9533c43-52bf-4ac3-9152-89c94f241bde"
   },
   "outputs": [
    {
     "name": "stdout",
     "output_type": "stream",
     "text": [
      "3554\n",
      "3554\n"
     ]
    }
   ],
   "source": [
    "ext_cluster_summ = []\n",
    "ext_ref_summ = []\n",
    "for data in ext_train_data:\n",
    "    ext_cluster_summ.append(data['text'][:])\n",
    "    ext_ref_summ.append(data['summary'][:])\n",
    "print(len(ext_cluster_summ))\n",
    "print(len(ext_ref_summ))"
   ]
  },
  {
   "cell_type": "code",
   "execution_count": 20,
   "metadata": {
    "colab": {
     "base_uri": "https://localhost:8080/",
     "height": 51
    },
    "colab_type": "code",
    "executionInfo": {
     "elapsed": 500,
     "status": "ok",
     "timestamp": 1557368636748,
     "user": {
      "displayName": "Shyla Gangwar",
      "photoUrl": "",
      "userId": "17693230568302739601"
     },
     "user_tz": 240
    },
    "id": "dDAE_qKVqvzP",
    "outputId": "6e7db3e0-8e4f-4691-abc9-e1a0ac3a39cd"
   },
   "outputs": [
    {
     "name": "stdout",
     "output_type": "stream",
     "text": [
      "3554\n",
      "3554\n"
     ]
    }
   ],
   "source": [
    "cluster_summ = []\n",
    "ref_summ = []\n",
    "for data in train_dict_text:\n",
    "    if data['text'] != '.'*len(data['text']) and data['text']:\n",
    "        cluster_summ.append(data['text'][:])\n",
    "        ref_summ.append(data['summary'][:])\n",
    "print(len(cluster_summ))\n",
    "print(len(ref_summ))"
   ]
  },
  {
   "cell_type": "code",
   "execution_count": 21,
   "metadata": {
    "colab": {
     "base_uri": "https://localhost:8080/",
     "height": 71
    },
    "colab_type": "code",
    "executionInfo": {
     "elapsed": 9531,
     "status": "ok",
     "timestamp": 1557368654179,
     "user": {
      "displayName": "Shyla Gangwar",
      "photoUrl": "",
      "userId": "17693230568302739601"
     },
     "user_tz": 240
    },
    "id": "2Ot7Pni5nXb8",
    "outputId": "378186d8-9450-4df0-9afc-7775dd169d7a"
   },
   "outputs": [
    {
     "name": "stdout",
     "output_type": "stream",
     "text": [
      "{'rouge-1': {'f': 0.2471733932078895, 'p': 0.17181656777216944, 'r': 0.4972278861199391}, 'rouge-2': {'f': 0.1058415587228665, 'p': 0.07158652511643064, 'r': 0.23941145137410924}, 'rouge-l': {'f': 0.1637220972708498, 'p': 0.15212461188447737, 'r': 0.44256714155898563}}\n",
      "{'rouge-1': {'f': 0.21372285066313368, 'p': 0.1261209219823455, 'r': 0.8062798294253963}, 'rouge-2': {'f': 0.09858325721230965, 'p': 0.056006456293525346, 'r': 0.49933411222768703}, 'rouge-l': {'f': 0.12089856620104618, 'p': 0.11747929034473187, 'r': 0.7565068407820615}}\n"
     ]
    }
   ],
   "source": [
    "scores = calculate_rouge (ext_cluster_summ, ext_ref_summ)\n",
    "print(scores)\n",
    "scores = calculate_rouge (cluster_summ, ref_summ)\n",
    "print(scores)"
   ]
  }
 ],
 "metadata": {
  "accelerator": "GPU",
  "colab": {
   "collapsed_sections": [],
   "name": "clustering_test.ipynb",
   "provenance": [
    {
     "file_id": "1b1FEXCe4z1wxaRraJ4W9v1SiTLjvqv3x",
     "timestamp": 1557285191826
    },
    {
     "file_id": "18Ye9CF1feEqECdVEiTa-Tnn_sIsZ-TRX",
     "timestamp": 1556255796462
    },
    {
     "file_id": "1SNNZDOXYYZ4mkbMBW6yTghgkTb9CY6fh",
     "timestamp": 1554915703195
    }
   ],
   "version": "0.3.2"
  },
  "kernelspec": {
   "display_name": "Python 3",
   "language": "python",
   "name": "python3"
  },
  "language_info": {
   "codemirror_mode": {
    "name": "ipython",
    "version": 3
   },
   "file_extension": ".py",
   "mimetype": "text/x-python",
   "name": "python",
   "nbconvert_exporter": "python",
   "pygments_lexer": "ipython3",
   "version": "3.7.3"
  }
 },
 "nbformat": 4,
 "nbformat_minor": 1
}
